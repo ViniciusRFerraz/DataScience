{
 "cells": [
  {
   "cell_type": "markdown",
   "metadata": {},
   "source": [
    "# Learning Pandas and applying in a Fifa 19 Dataset"
   ]
  },
  {
   "cell_type": "code",
   "execution_count": 2,
   "metadata": {},
   "outputs": [],
   "source": [
    "import matplotlib.pyplot as plt\n",
    "import pandas as pd\n",
    "import numpy as np"
   ]
  },
  {
   "cell_type": "markdown",
   "metadata": {},
   "source": [
    "## Series"
   ]
  },
  {
   "cell_type": "code",
   "execution_count": 3,
   "metadata": {},
   "outputs": [
    {
     "name": "stdout",
     "output_type": "stream",
     "text": [
      "João     6.0\n",
      "Maria    7.0\n",
      "Hugo     9.0\n",
      "Pedro    5.0\n",
      "Paulo    4.5\n",
      "dtype: float64\n"
     ]
    }
   ],
   "source": [
    "notas = pd.Series([6,7,9,5,4.5], index = ['João','Maria','Hugo','Pedro','Paulo'])\n",
    "print(notas)"
   ]
  },
  {
   "cell_type": "markdown",
   "metadata": {},
   "source": [
    "### .values, .index, .mean(), .std(), .describe()"
   ]
  },
  {
   "cell_type": "code",
   "execution_count": 4,
   "metadata": {},
   "outputs": [
    {
     "name": "stdout",
     "output_type": "stream",
     "text": [
      "[6.  7.  9.  5.  4.5]\n",
      "\r\n",
      "Index(['João', 'Maria', 'Hugo', 'Pedro', 'Paulo'], dtype='object')\n",
      "\r\n",
      "9.0\n",
      "\r\n",
      "media =  6.3\n",
      "\r\n",
      "desvio padrão =  1.7888543819998317\n",
      "\r\n",
      "Resumo = \n",
      " count    5.000000\n",
      "mean     6.300000\n",
      "std      1.788854\n",
      "min      4.500000\n",
      "25%      5.000000\n",
      "50%      6.000000\n",
      "75%      7.000000\n",
      "max      9.000000\n",
      "dtype: float64\n"
     ]
    }
   ],
   "source": [
    "print(notas.values)\n",
    "print('\\r')\n",
    "print(notas.index)\n",
    "print('\\r')\n",
    "print(notas['Hugo'])\n",
    "print('\\r')\n",
    "print('media = ',notas.mean())\n",
    "print('\\r')\n",
    "print('desvio padrão = ',notas.std())\n",
    "print('\\r')\n",
    "print('Resumo = \\n',notas.describe())"
   ]
  },
  {
   "cell_type": "markdown",
   "metadata": {},
   "source": [
    "### It's possible to apply math expressions of numpy directly"
   ]
  },
  {
   "cell_type": "code",
   "execution_count": 5,
   "metadata": {},
   "outputs": [
    {
     "name": "stdout",
     "output_type": "stream",
     "text": [
      "log das notas = \n",
      "João     1.791759\n",
      "Maria    1.945910\n",
      "Hugo     2.197225\n",
      "Pedro    1.609438\n",
      "Paulo    1.504077\n",
      "dtype: float64\n",
      "\n",
      "quadrado das notas = \n",
      "João     36.00\n",
      "Maria    49.00\n",
      "Hugo     81.00\n",
      "Pedro    25.00\n",
      "Paulo    20.25\n",
      "dtype: float64\n"
     ]
    }
   ],
   "source": [
    "print('log das notas = \\n{}'.format(np.log(notas)))\n",
    "print('\\r')\n",
    "print('quadrado das notas = \\n{}'.format(notas**2))"
   ]
  },
  {
   "cell_type": "markdown",
   "metadata": {},
   "source": [
    "## DataFrame"
   ]
  },
  {
   "cell_type": "code",
   "execution_count": 6,
   "metadata": {},
   "outputs": [
    {
     "name": "stdout",
     "output_type": "stream",
     "text": [
      "  Alunos  Faltas  Provas  Seminario\n",
      "0   João       2       9          7\n",
      "1  Pedro       6       7          9\n",
      "2  Maria       4       2          4\n",
      "3  Paulo       8       5          1 \n",
      "\n"
     ]
    }
   ],
   "source": [
    "df_alunos = pd.DataFrame({'Alunos' : ['João','Pedro','Maria','Paulo'],\n",
    "                      'Faltas' : [2,6,4,8],\n",
    "                      'Provas' : [9,7,2,5],\n",
    "                      'Seminario' : [7,9,4,1]})\n",
    "print(df_alunos,'\\n')"
   ]
  },
  {
   "cell_type": "markdown",
   "metadata": {},
   "source": [
    "### dtypes, columns, indexing and describe"
   ]
  },
  {
   "cell_type": "code",
   "execution_count": 7,
   "metadata": {},
   "outputs": [
    {
     "name": "stdout",
     "output_type": "stream",
     "text": [
      "Alunos       object\n",
      "Faltas        int64\n",
      "Provas        int64\n",
      "Seminario     int64\n",
      "dtype: object \n",
      "\n",
      "\n",
      "Index(['Alunos', 'Faltas', 'Provas', 'Seminario'], dtype='object') \n",
      "\n",
      "\n",
      "0     João\n",
      "1    Pedro\n",
      "2    Maria\n",
      "3    Paulo\n",
      "Name: Alunos, dtype: object \n",
      "\n",
      "\n",
      "         Faltas    Provas  Seminario\n",
      "count  4.000000  4.000000       4.00\n",
      "mean   5.000000  5.750000       5.25\n",
      "std    2.581989  2.986079       3.50\n",
      "min    2.000000  2.000000       1.00\n",
      "25%    3.500000  4.250000       3.25\n",
      "50%    5.000000  6.000000       5.50\n",
      "75%    6.500000  7.500000       7.50\n",
      "max    8.000000  9.000000       9.00\n"
     ]
    }
   ],
   "source": [
    "print(df_alunos.dtypes,'\\n\\n')\n",
    "print(df_alunos.columns,'\\n\\n')\n",
    "print(df_alunos['Alunos'],'\\n\\n')\n",
    "print(df_alunos.describe())"
   ]
  },
  {
   "cell_type": "markdown",
   "metadata": {},
   "source": [
    "### sort_values(by= ) and loc[]"
   ]
  },
  {
   "cell_type": "code",
   "execution_count": 8,
   "metadata": {},
   "outputs": [
    {
     "name": "stdout",
     "output_type": "stream",
     "text": [
      "  Alunos  Faltas  Provas  Seminario\n",
      "2  Maria       4       2          4\n",
      "3  Paulo       8       5          1\n",
      "1  Pedro       6       7          9\n",
      "0   João       2       9          7\n"
     ]
    },
    {
     "data": {
      "text/plain": [
       "Alunos       Maria\n",
       "Faltas           4\n",
       "Provas           2\n",
       "Seminario        4\n",
       "Name: 2, dtype: object"
      ]
     },
     "execution_count": 8,
     "metadata": {},
     "output_type": "execute_result"
    }
   ],
   "source": [
    "print(df_alunos.sort_values(by='Provas'))\n",
    "df_alunos.loc[2]"
   ]
  },
  {
   "cell_type": "markdown",
   "metadata": {},
   "source": [
    "### Filter"
   ]
  },
  {
   "cell_type": "code",
   "execution_count": 9,
   "metadata": {},
   "outputs": [
    {
     "data": {
      "text/html": [
       "<div>\n",
       "<style scoped>\n",
       "    .dataframe tbody tr th:only-of-type {\n",
       "        vertical-align: middle;\n",
       "    }\n",
       "\n",
       "    .dataframe tbody tr th {\n",
       "        vertical-align: top;\n",
       "    }\n",
       "\n",
       "    .dataframe thead th {\n",
       "        text-align: right;\n",
       "    }\n",
       "</style>\n",
       "<table border=\"1\" class=\"dataframe\">\n",
       "  <thead>\n",
       "    <tr style=\"text-align: right;\">\n",
       "      <th></th>\n",
       "      <th>Alunos</th>\n",
       "      <th>Faltas</th>\n",
       "      <th>Provas</th>\n",
       "      <th>Seminario</th>\n",
       "    </tr>\n",
       "  </thead>\n",
       "  <tbody>\n",
       "    <tr>\n",
       "      <th>0</th>\n",
       "      <td>João</td>\n",
       "      <td>2</td>\n",
       "      <td>9</td>\n",
       "      <td>7</td>\n",
       "    </tr>\n",
       "    <tr>\n",
       "      <th>1</th>\n",
       "      <td>Pedro</td>\n",
       "      <td>6</td>\n",
       "      <td>7</td>\n",
       "      <td>9</td>\n",
       "    </tr>\n",
       "  </tbody>\n",
       "</table>\n",
       "</div>"
      ],
      "text/plain": [
       "  Alunos  Faltas  Provas  Seminario\n",
       "0   João       2       9          7\n",
       "1  Pedro       6       7          9"
      ]
     },
     "execution_count": 9,
     "metadata": {},
     "output_type": "execute_result"
    }
   ],
   "source": [
    "df_alunos[(df_alunos['Provas'] > 5) & (df_alunos['Seminario'] > 5)]"
   ]
  },
  {
   "cell_type": "markdown",
   "metadata": {},
   "source": [
    "### Opening csv(or other) docs "
   ]
  },
  {
   "cell_type": "code",
   "execution_count": 10,
   "metadata": {},
   "outputs": [],
   "source": [
    "df = pd.read_csv(\"Docs/fifa19.csv\")"
   ]
  },
  {
   "cell_type": "markdown",
   "metadata": {},
   "source": [
    "### .head() and .tail()"
   ]
  },
  {
   "cell_type": "code",
   "execution_count": 11,
   "metadata": {},
   "outputs": [
    {
     "data": {
      "text/html": [
       "<div>\n",
       "<style scoped>\n",
       "    .dataframe tbody tr th:only-of-type {\n",
       "        vertical-align: middle;\n",
       "    }\n",
       "\n",
       "    .dataframe tbody tr th {\n",
       "        vertical-align: top;\n",
       "    }\n",
       "\n",
       "    .dataframe thead th {\n",
       "        text-align: right;\n",
       "    }\n",
       "</style>\n",
       "<table border=\"1\" class=\"dataframe\">\n",
       "  <thead>\n",
       "    <tr style=\"text-align: right;\">\n",
       "      <th></th>\n",
       "      <th>Unnamed: 0</th>\n",
       "      <th>ID</th>\n",
       "      <th>Name</th>\n",
       "      <th>Age</th>\n",
       "      <th>Photo</th>\n",
       "      <th>Nationality</th>\n",
       "      <th>Flag</th>\n",
       "      <th>Overall</th>\n",
       "      <th>Potential</th>\n",
       "      <th>Club</th>\n",
       "      <th>...</th>\n",
       "      <th>Composure</th>\n",
       "      <th>Marking</th>\n",
       "      <th>StandingTackle</th>\n",
       "      <th>SlidingTackle</th>\n",
       "      <th>GKDiving</th>\n",
       "      <th>GKHandling</th>\n",
       "      <th>GKKicking</th>\n",
       "      <th>GKPositioning</th>\n",
       "      <th>GKReflexes</th>\n",
       "      <th>Release Clause</th>\n",
       "    </tr>\n",
       "  </thead>\n",
       "  <tbody>\n",
       "    <tr>\n",
       "      <th>0</th>\n",
       "      <td>0</td>\n",
       "      <td>158023</td>\n",
       "      <td>L. Messi</td>\n",
       "      <td>31</td>\n",
       "      <td>https://cdn.sofifa.org/players/4/19/158023.png</td>\n",
       "      <td>Argentina</td>\n",
       "      <td>https://cdn.sofifa.org/flags/52.png</td>\n",
       "      <td>94</td>\n",
       "      <td>94</td>\n",
       "      <td>FC Barcelona</td>\n",
       "      <td>...</td>\n",
       "      <td>96.0</td>\n",
       "      <td>33.0</td>\n",
       "      <td>28.0</td>\n",
       "      <td>26.0</td>\n",
       "      <td>6.0</td>\n",
       "      <td>11.0</td>\n",
       "      <td>15.0</td>\n",
       "      <td>14.0</td>\n",
       "      <td>8.0</td>\n",
       "      <td>€226.5M</td>\n",
       "    </tr>\n",
       "    <tr>\n",
       "      <th>1</th>\n",
       "      <td>1</td>\n",
       "      <td>20801</td>\n",
       "      <td>Cristiano Ronaldo</td>\n",
       "      <td>33</td>\n",
       "      <td>https://cdn.sofifa.org/players/4/19/20801.png</td>\n",
       "      <td>Portugal</td>\n",
       "      <td>https://cdn.sofifa.org/flags/38.png</td>\n",
       "      <td>94</td>\n",
       "      <td>94</td>\n",
       "      <td>Juventus</td>\n",
       "      <td>...</td>\n",
       "      <td>95.0</td>\n",
       "      <td>28.0</td>\n",
       "      <td>31.0</td>\n",
       "      <td>23.0</td>\n",
       "      <td>7.0</td>\n",
       "      <td>11.0</td>\n",
       "      <td>15.0</td>\n",
       "      <td>14.0</td>\n",
       "      <td>11.0</td>\n",
       "      <td>€127.1M</td>\n",
       "    </tr>\n",
       "    <tr>\n",
       "      <th>2</th>\n",
       "      <td>2</td>\n",
       "      <td>190871</td>\n",
       "      <td>Neymar Jr</td>\n",
       "      <td>26</td>\n",
       "      <td>https://cdn.sofifa.org/players/4/19/190871.png</td>\n",
       "      <td>Brazil</td>\n",
       "      <td>https://cdn.sofifa.org/flags/54.png</td>\n",
       "      <td>92</td>\n",
       "      <td>93</td>\n",
       "      <td>Paris Saint-Germain</td>\n",
       "      <td>...</td>\n",
       "      <td>94.0</td>\n",
       "      <td>27.0</td>\n",
       "      <td>24.0</td>\n",
       "      <td>33.0</td>\n",
       "      <td>9.0</td>\n",
       "      <td>9.0</td>\n",
       "      <td>15.0</td>\n",
       "      <td>15.0</td>\n",
       "      <td>11.0</td>\n",
       "      <td>€228.1M</td>\n",
       "    </tr>\n",
       "  </tbody>\n",
       "</table>\n",
       "<p>3 rows × 89 columns</p>\n",
       "</div>"
      ],
      "text/plain": [
       "   Unnamed: 0      ID               Name  Age  \\\n",
       "0           0  158023           L. Messi   31   \n",
       "1           1   20801  Cristiano Ronaldo   33   \n",
       "2           2  190871          Neymar Jr   26   \n",
       "\n",
       "                                            Photo Nationality  \\\n",
       "0  https://cdn.sofifa.org/players/4/19/158023.png   Argentina   \n",
       "1   https://cdn.sofifa.org/players/4/19/20801.png    Portugal   \n",
       "2  https://cdn.sofifa.org/players/4/19/190871.png      Brazil   \n",
       "\n",
       "                                  Flag  Overall  Potential  \\\n",
       "0  https://cdn.sofifa.org/flags/52.png       94         94   \n",
       "1  https://cdn.sofifa.org/flags/38.png       94         94   \n",
       "2  https://cdn.sofifa.org/flags/54.png       92         93   \n",
       "\n",
       "                  Club      ...       Composure Marking StandingTackle  \\\n",
       "0         FC Barcelona      ...            96.0    33.0           28.0   \n",
       "1             Juventus      ...            95.0    28.0           31.0   \n",
       "2  Paris Saint-Germain      ...            94.0    27.0           24.0   \n",
       "\n",
       "   SlidingTackle GKDiving  GKHandling  GKKicking  GKPositioning GKReflexes  \\\n",
       "0           26.0      6.0        11.0       15.0           14.0        8.0   \n",
       "1           23.0      7.0        11.0       15.0           14.0       11.0   \n",
       "2           33.0      9.0         9.0       15.0           15.0       11.0   \n",
       "\n",
       "  Release Clause  \n",
       "0        €226.5M  \n",
       "1        €127.1M  \n",
       "2        €228.1M  \n",
       "\n",
       "[3 rows x 89 columns]"
      ]
     },
     "execution_count": 11,
     "metadata": {},
     "output_type": "execute_result"
    }
   ],
   "source": [
    "df.head(n=3) # Shows n first values of DataFrame. default n = 5\n",
    "                    # tail() shows n last values of DataFrame. default n = 5"
   ]
  },
  {
   "cell_type": "markdown",
   "metadata": {},
   "source": [
    "### value_counts()"
   ]
  },
  {
   "cell_type": "code",
   "execution_count": 12,
   "metadata": {},
   "outputs": [
    {
     "data": {
      "text/plain": [
       "21    1423\n",
       "26    1387\n",
       "24    1358\n",
       "22    1340\n",
       "23    1332\n",
       "25    1319\n",
       "20    1240\n",
       "27    1162\n",
       "28    1101\n",
       "19    1024\n",
       "29     959\n",
       "30     917\n",
       "18     732\n",
       "31     707\n",
       "32     574\n",
       "33     408\n",
       "34     404\n",
       "17     289\n",
       "35     196\n",
       "36     127\n",
       "37      82\n",
       "16      42\n",
       "38      37\n",
       "39      25\n",
       "40      13\n",
       "41       5\n",
       "44       2\n",
       "42       1\n",
       "45       1\n",
       "Name: Age, dtype: int64"
      ]
     },
     "execution_count": 12,
     "metadata": {},
     "output_type": "execute_result"
    }
   ],
   "source": [
    "ages = df[\"Age\"].value_counts() # value_counts(normalize=True)\n",
    "ages"
   ]
  },
  {
   "cell_type": "markdown",
   "metadata": {},
   "source": [
    "## Ploting"
   ]
  },
  {
   "cell_type": "code",
   "execution_count": 13,
   "metadata": {},
   "outputs": [
    {
     "data": {
      "image/png": "[encoded data removed]",
      "text/plain": [
       "<Figure size 432x288 with 1 Axes>"
      ]
     },
     "metadata": {
      "needs_background": "light"
     },
     "output_type": "display_data"
    }
   ],
   "source": [
    "plt.bar(ages.index,ages.values)\n",
    "plt.show()\n",
    "#plt.plot(ages.index,ages.values) #????????\n",
    "#plt.scatter(ages.index,ages.values);"
   ]
  },
  {
   "cell_type": "markdown",
   "metadata": {},
   "source": [
    "#### Personal tests and plots with Fifa19 DataSet"
   ]
  },
  {
   "cell_type": "code",
   "execution_count": 14,
   "metadata": {},
   "outputs": [
    {
     "data": {
      "text/html": [
       "<div>\n",
       "<style scoped>\n",
       "    .dataframe tbody tr th:only-of-type {\n",
       "        vertical-align: middle;\n",
       "    }\n",
       "\n",
       "    .dataframe tbody tr th {\n",
       "        vertical-align: top;\n",
       "    }\n",
       "\n",
       "    .dataframe thead th {\n",
       "        text-align: right;\n",
       "    }\n",
       "</style>\n",
       "<table border=\"1\" class=\"dataframe\">\n",
       "  <thead>\n",
       "    <tr style=\"text-align: right;\">\n",
       "      <th></th>\n",
       "      <th>Unnamed: 0</th>\n",
       "      <th>ID</th>\n",
       "      <th>Overall</th>\n",
       "      <th>Potential</th>\n",
       "      <th>Special</th>\n",
       "      <th>International Reputation</th>\n",
       "      <th>Weak Foot</th>\n",
       "      <th>Skill Moves</th>\n",
       "      <th>Jersey Number</th>\n",
       "      <th>Crossing</th>\n",
       "      <th>...</th>\n",
       "      <th>Penalties</th>\n",
       "      <th>Composure</th>\n",
       "      <th>Marking</th>\n",
       "      <th>StandingTackle</th>\n",
       "      <th>SlidingTackle</th>\n",
       "      <th>GKDiving</th>\n",
       "      <th>GKHandling</th>\n",
       "      <th>GKKicking</th>\n",
       "      <th>GKPositioning</th>\n",
       "      <th>GKReflexes</th>\n",
       "    </tr>\n",
       "    <tr>\n",
       "      <th>Age</th>\n",
       "      <th></th>\n",
       "      <th></th>\n",
       "      <th></th>\n",
       "      <th></th>\n",
       "      <th></th>\n",
       "      <th></th>\n",
       "      <th></th>\n",
       "      <th></th>\n",
       "      <th></th>\n",
       "      <th></th>\n",
       "      <th></th>\n",
       "      <th></th>\n",
       "      <th></th>\n",
       "      <th></th>\n",
       "      <th></th>\n",
       "      <th></th>\n",
       "      <th></th>\n",
       "      <th></th>\n",
       "      <th></th>\n",
       "      <th></th>\n",
       "      <th></th>\n",
       "    </tr>\n",
       "  </thead>\n",
       "  <tbody>\n",
       "    <tr>\n",
       "      <th>16</th>\n",
       "      <td>16707.452381</td>\n",
       "      <td>244184.309524</td>\n",
       "      <td>54.452381</td>\n",
       "      <td>73.190476</td>\n",
       "      <td>1347.880952</td>\n",
       "      <td>1.000000</td>\n",
       "      <td>2.761905</td>\n",
       "      <td>2.095238</td>\n",
       "      <td>28.380952</td>\n",
       "      <td>38.404762</td>\n",
       "      <td>...</td>\n",
       "      <td>45.976190</td>\n",
       "      <td>46.404762</td>\n",
       "      <td>31.142857</td>\n",
       "      <td>33.666667</td>\n",
       "      <td>33.523810</td>\n",
       "      <td>14.071429</td>\n",
       "      <td>13.952381</td>\n",
       "      <td>13.904762</td>\n",
       "      <td>13.714286</td>\n",
       "      <td>13.571429</td>\n",
       "    </tr>\n",
       "    <tr>\n",
       "      <th>17</th>\n",
       "      <td>15858.183391</td>\n",
       "      <td>243575.795848</td>\n",
       "      <td>56.404844</td>\n",
       "      <td>74.339100</td>\n",
       "      <td>1378.802768</td>\n",
       "      <td>1.000000</td>\n",
       "      <td>2.832753</td>\n",
       "      <td>2.177700</td>\n",
       "      <td>32.421603</td>\n",
       "      <td>40.202091</td>\n",
       "      <td>...</td>\n",
       "      <td>44.062718</td>\n",
       "      <td>48.020906</td>\n",
       "      <td>36.080139</td>\n",
       "      <td>37.839721</td>\n",
       "      <td>37.167247</td>\n",
       "      <td>15.121951</td>\n",
       "      <td>15.135889</td>\n",
       "      <td>14.658537</td>\n",
       "      <td>14.331010</td>\n",
       "      <td>14.731707</td>\n",
       "    </tr>\n",
       "    <tr>\n",
       "      <th>18</th>\n",
       "      <td>15169.502732</td>\n",
       "      <td>242059.147541</td>\n",
       "      <td>57.741803</td>\n",
       "      <td>73.530055</td>\n",
       "      <td>1396.504098</td>\n",
       "      <td>1.001366</td>\n",
       "      <td>2.840164</td>\n",
       "      <td>2.120219</td>\n",
       "      <td>31.267760</td>\n",
       "      <td>40.724044</td>\n",
       "      <td>...</td>\n",
       "      <td>44.584699</td>\n",
       "      <td>49.023224</td>\n",
       "      <td>38.163934</td>\n",
       "      <td>39.185792</td>\n",
       "      <td>38.005464</td>\n",
       "      <td>15.285519</td>\n",
       "      <td>15.096995</td>\n",
       "      <td>15.024590</td>\n",
       "      <td>14.774590</td>\n",
       "      <td>15.265027</td>\n",
       "    </tr>\n",
       "    <tr>\n",
       "      <th>19</th>\n",
       "      <td>14127.623047</td>\n",
       "      <td>239909.397461</td>\n",
       "      <td>59.583008</td>\n",
       "      <td>73.146484</td>\n",
       "      <td>1439.607422</td>\n",
       "      <td>1.006856</td>\n",
       "      <td>2.885406</td>\n",
       "      <td>2.214496</td>\n",
       "      <td>28.852106</td>\n",
       "      <td>43.475024</td>\n",
       "      <td>...</td>\n",
       "      <td>44.922625</td>\n",
       "      <td>50.398629</td>\n",
       "      <td>40.714985</td>\n",
       "      <td>41.039177</td>\n",
       "      <td>40.023506</td>\n",
       "      <td>14.594515</td>\n",
       "      <td>14.416259</td>\n",
       "      <td>14.284035</td>\n",
       "      <td>14.383937</td>\n",
       "      <td>14.635651</td>\n",
       "    </tr>\n",
       "    <tr>\n",
       "      <th>20</th>\n",
       "      <td>12592.683065</td>\n",
       "      <td>236829.318548</td>\n",
       "      <td>61.858871</td>\n",
       "      <td>73.213710</td>\n",
       "      <td>1498.423387</td>\n",
       "      <td>1.004850</td>\n",
       "      <td>2.881164</td>\n",
       "      <td>2.268391</td>\n",
       "      <td>24.334142</td>\n",
       "      <td>45.899757</td>\n",
       "      <td>...</td>\n",
       "      <td>45.402587</td>\n",
       "      <td>52.679871</td>\n",
       "      <td>44.118836</td>\n",
       "      <td>44.549717</td>\n",
       "      <td>43.215036</td>\n",
       "      <td>14.875505</td>\n",
       "      <td>14.630558</td>\n",
       "      <td>14.488278</td>\n",
       "      <td>14.428456</td>\n",
       "      <td>14.895715</td>\n",
       "    </tr>\n",
       "  </tbody>\n",
       "</table>\n",
       "<p>5 rows × 43 columns</p>\n",
       "</div>"
      ],
      "text/plain": [
       "       Unnamed: 0             ID    Overall  Potential      Special  \\\n",
       "Age                                                                   \n",
       "16   16707.452381  244184.309524  54.452381  73.190476  1347.880952   \n",
       "17   15858.183391  243575.795848  56.404844  74.339100  1378.802768   \n",
       "18   15169.502732  242059.147541  57.741803  73.530055  1396.504098   \n",
       "19   14127.623047  239909.397461  59.583008  73.146484  1439.607422   \n",
       "20   12592.683065  236829.318548  61.858871  73.213710  1498.423387   \n",
       "\n",
       "     International Reputation  Weak Foot  Skill Moves  Jersey Number  \\\n",
       "Age                                                                    \n",
       "16                   1.000000   2.761905     2.095238      28.380952   \n",
       "17                   1.000000   2.832753     2.177700      32.421603   \n",
       "18                   1.001366   2.840164     2.120219      31.267760   \n",
       "19                   1.006856   2.885406     2.214496      28.852106   \n",
       "20                   1.004850   2.881164     2.268391      24.334142   \n",
       "\n",
       "      Crossing     ...      Penalties  Composure    Marking  StandingTackle  \\\n",
       "Age                ...                                                        \n",
       "16   38.404762     ...      45.976190  46.404762  31.142857       33.666667   \n",
       "17   40.202091     ...      44.062718  48.020906  36.080139       37.839721   \n",
       "18   40.724044     ...      44.584699  49.023224  38.163934       39.185792   \n",
       "19   43.475024     ...      44.922625  50.398629  40.714985       41.039177   \n",
       "20   45.899757     ...      45.402587  52.679871  44.118836       44.549717   \n",
       "\n",
       "     SlidingTackle   GKDiving  GKHandling  GKKicking  GKPositioning  \\\n",
       "Age                                                                   \n",
       "16       33.523810  14.071429   13.952381  13.904762      13.714286   \n",
       "17       37.167247  15.121951   15.135889  14.658537      14.331010   \n",
       "18       38.005464  15.285519   15.096995  15.024590      14.774590   \n",
       "19       40.023506  14.594515   14.416259  14.284035      14.383937   \n",
       "20       43.215036  14.875505   14.630558  14.488278      14.428456   \n",
       "\n",
       "     GKReflexes  \n",
       "Age              \n",
       "16    13.571429  \n",
       "17    14.731707  \n",
       "18    15.265027  \n",
       "19    14.635651  \n",
       "20    14.895715  \n",
       "\n",
       "[5 rows x 43 columns]"
      ]
     },
     "execution_count": 14,
     "metadata": {},
     "output_type": "execute_result"
    }
   ],
   "source": [
    "df.groupby(\"Age\").mean().head()"
   ]
  },
  {
   "cell_type": "code",
   "execution_count": 15,
   "metadata": {},
   "outputs": [
    {
     "data": {
      "image/png": "[encoded data removed]",
      "text/plain": [
       "<Figure size 432x288 with 1 Axes>"
      ]
     },
     "metadata": {
      "needs_background": "light"
     },
     "output_type": "display_data"
    }
   ],
   "source": [
    "cross = df.groupby(\"Age\").mean()[\"Crossing\"]\n",
    "#plt.bar(cross.index,cross.values)\n",
    "plt.title(\"Crossing x Age\")\n",
    "plt.plot(cross.index,cross.values);"
   ]
  },
  {
   "cell_type": "markdown",
   "metadata": {},
   "source": [
    "### ---------------------------------------------------------------------------------------------\n",
    "#### Back to the tutorial"
   ]
  },
  {
   "cell_type": "markdown",
   "metadata": {},
   "source": [
    "### dropna()\n",
    "    returns all lines that doesn't have a NaN value\n",
    "### fillna()\n",
    "    fills all NaN values with argument\n",
    "### isna()\n",
    "    shows NaN values"
   ]
  },
  {
   "cell_type": "code",
   "execution_count": 16,
   "metadata": {},
   "outputs": [
    {
     "data": {
      "text/plain": [
       "Age\n",
       "16    False\n",
       "17    False\n",
       "18    False\n",
       "19    False\n",
       "20    False\n",
       "Name: Crossing, dtype: bool"
      ]
     },
     "execution_count": 16,
     "metadata": {},
     "output_type": "execute_result"
    }
   ],
   "source": [
    "# example\n",
    "cross.head().isna()"
   ]
  },
  {
   "cell_type": "markdown",
   "metadata": {},
   "source": [
    "## Ploting with Pandas\n",
    "### Histogram"
   ]
  },
  {
   "cell_type": "code",
   "execution_count": 17,
   "metadata": {},
   "outputs": [
    {
     "data": {
      "image/png": "[encoded data removed]",
      "text/plain": [
       "<Figure size 432x288 with 1 Axes>"
      ]
     },
     "metadata": {
      "needs_background": "light"
     },
     "output_type": "display_data"
    }
   ],
   "source": [
    "df['Age'].plot.hist(bins=30,edgecolor='black');"
   ]
  },
  {
   "cell_type": "markdown",
   "metadata": {},
   "source": [
    "### Vertical Bar"
   ]
  },
  {
   "cell_type": "code",
   "execution_count": 18,
   "metadata": {},
   "outputs": [
    {
     "data": {
      "image/png": "[encoded data removed]",
      "text/plain": [
       "<Figure size 432x288 with 1 Axes>"
      ]
     },
     "metadata": {
      "needs_background": "light"
     },
     "output_type": "display_data"
    }
   ],
   "source": [
    "df['Age'].value_counts().plot.bar();"
   ]
  },
  {
   "cell_type": "markdown",
   "metadata": {},
   "source": [
    "### Horizontal Bar"
   ]
  },
  {
   "cell_type": "code",
   "execution_count": 19,
   "metadata": {},
   "outputs": [
    {
     "data": {
      "text/plain": [
       "count    18207.000000\n",
       "mean        25.122206\n",
       "std          4.669943\n",
       "min         16.000000\n",
       "25%         21.000000\n",
       "50%         25.000000\n",
       "75%         28.000000\n",
       "max         45.000000\n",
       "Name: Age, dtype: float64"
      ]
     },
     "execution_count": 19,
     "metadata": {},
     "output_type": "execute_result"
    },
    {
     "data": {
      "image/png": "[encoded data removed]",
      "text/plain": [
       "<Figure size 432x288 with 1 Axes>"
      ]
     },
     "metadata": {
      "needs_background": "light"
     },
     "output_type": "display_data"
    }
   ],
   "source": [
    "df['Age'].value_counts().plot.barh(title=\"Numbers of players per Age\")\n",
    "df['Age'].describe()"
   ]
  },
  {
   "cell_type": "markdown",
   "metadata": {},
   "source": [
    "### Scatter"
   ]
  },
  {
   "cell_type": "code",
   "execution_count": 20,
   "metadata": {},
   "outputs": [
    {
     "data": {
      "text/plain": [
       "0.06865984742020215"
      ]
     },
     "execution_count": 20,
     "metadata": {},
     "output_type": "execute_result"
    },
    {
     "data": {
      "image/png": "[encoded data removed]",
      "text/plain": [
       "<Figure size 432x288 with 1 Axes>"
      ]
     },
     "metadata": {
      "needs_background": "light"
     },
     "output_type": "display_data"
    }
   ],
   "source": [
    "df.plot.scatter(x='Age',y='Finishing')\n",
    "df['Age'].corr(df['Finishing'])"
   ]
  },
  {
   "cell_type": "markdown",
   "metadata": {},
   "source": [
    "#### Independently of age, players can be good (or not) at Finishing the ball"
   ]
  },
  {
   "cell_type": "markdown",
   "metadata": {},
   "source": [
    "### Styles"
   ]
  },
  {
   "cell_type": "code",
   "execution_count": 21,
   "metadata": {},
   "outputs": [
    {
     "name": "stdout",
     "output_type": "stream",
     "text": [
      "correlation between LongShots and ShotPower =  0.8892543491393221\n"
     ]
    },
    {
     "data": {
      "image/png": "[encoded data removed]",
      "text/plain": [
       "<Figure size 432x288 with 1 Axes>"
      ]
     },
     "metadata": {},
     "output_type": "display_data"
    }
   ],
   "source": [
    "plt.style.use('ggplot')\n",
    "df.plot.scatter(x='LongShots',y='ShotPower',s=10)\n",
    "print('correlation between LongShots and ShotPower = ', df['LongShots'].corr(df['ShotPower']))"
   ]
  },
  {
   "cell_type": "markdown",
   "metadata": {},
   "source": [
    "#### The more ShotPower the player has, the better he kicks LongShots. Makes sense."
   ]
  },
  {
   "cell_type": "markdown",
   "metadata": {},
   "source": [
    "### Pie"
   ]
  },
  {
   "cell_type": "code",
   "execution_count": 22,
   "metadata": {},
   "outputs": [
    {
     "data": {
      "image/png": "[encoded data removed]",
      "text/plain": [
       "<Figure size 432x288 with 1 Axes>"
      ]
     },
     "metadata": {},
     "output_type": "display_data"
    }
   ],
   "source": [
    "df['Age'].value_counts().plot.pie();"
   ]
  },
  {
   "cell_type": "code",
   "execution_count": 23,
   "metadata": {},
   "outputs": [
    {
     "name": "stdout",
     "output_type": "stream",
     "text": [
      "correlation between Agility and Dribbling = \t 0.7651530750379557\n"
     ]
    },
    {
     "data": {
      "image/png": "[encoded data removed]",
      "text/plain": [
       "<Figure size 432x288 with 1 Axes>"
      ]
     },
     "metadata": {},
     "output_type": "display_data"
    }
   ],
   "source": [
    "df.plot.scatter(x='Agility',y='Dribbling')\n",
    "print('correlation between Agility and Dribbling = \\t', df['Agility'].corr(df['Dribbling']))"
   ]
  },
  {
   "cell_type": "markdown",
   "metadata": {},
   "source": [
    "#### In the average, the more agile the player is, the better he is at dribbling"
   ]
  },
  {
   "cell_type": "markdown",
   "metadata": {},
   "source": [
    "### More correlations"
   ]
  },
  {
   "cell_type": "code",
   "execution_count": 24,
   "metadata": {},
   "outputs": [
    {
     "name": "stdout",
     "output_type": "stream",
     "text": [
      "correlation between Age and Finishing = \t\t\t 0.06865984742020215\n",
      "correlation between Free Kick Accuracy and BallControl = \t 0.759548210843157\n",
      "correlation between Age and Overall = \t\t\t\t 0.45234952145633556\n"
     ]
    }
   ],
   "source": [
    "print('correlation between Age and Finishing = \\t\\t\\t', df['Age'].corr(df['Finishing']))\n",
    "print('correlation between Free Kick Accuracy and BallControl = \\t', df['FKAccuracy'].corr(df['BallControl']))\n",
    "print('correlation between Age and Overall = \\t\\t\\t\\t', df['Age'].corr(df['Overall']))"
   ]
  },
  {
   "cell_type": "markdown",
   "metadata": {},
   "source": [
    "## Saving DataFrames as csv(or other)"
   ]
  },
  {
   "cell_type": "code",
   "execution_count": 38,
   "metadata": {},
   "outputs": [
    {
     "name": "stdout",
     "output_type": "stream",
     "text": [
      "   Unnamed: 0 Alunos  Faltas  Provas  Seminario\n",
      "0           0   João       2       9          7\n",
      "1           1  Pedro       6       7          9\n",
      "2           2  Maria       4       2          4\n",
      "3           3  Paulo       8       5          1\n"
     ]
    }
   ],
   "source": [
    "df_alunos.to_csv(\"TesteAlunos.csv\")\n",
    "\n",
    "df33 = pd.read_csv(\"TesteAlunos.csv\")\n",
    "print(df33)"
   ]
  },
  {
   "cell_type": "code",
   "execution_count": null,
   "metadata": {},
   "outputs": [],
   "source": []
  },
  {
   "cell_type": "code",
   "execution_count": null,
   "metadata": {},
   "outputs": [],
   "source": []
  }
 ],
 "metadata": {
  "kernelspec": {
   "display_name": "Python 3",
   "language": "python",
   "name": "python3"
  },
  "language_info": {
   "codemirror_mode": {
    "name": "ipython",
    "version": 3
   },
   "file_extension": ".py",
   "mimetype": "text/x-python",
   "name": "python",
   "nbconvert_exporter": "python",
   "pygments_lexer": "ipython3",
   "version": "3.7.1"
  }
 },
 "nbformat": 4,
 "nbformat_minor": 2
}
