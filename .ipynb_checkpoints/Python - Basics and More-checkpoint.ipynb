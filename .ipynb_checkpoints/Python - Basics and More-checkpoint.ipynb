{
 "cells": [
  {
   "cell_type": "code",
   "execution_count": 88,
   "metadata": {},
   "outputs": [
    {
     "name": "stdout",
     "output_type": "stream",
     "text": [
      "Vinicius Ferraz\n"
     ]
    }
   ],
   "source": [
    "# Vinícius Ferraz\n",
    "# Learning Python - Basics and More\n",
    "# I already know python, this is an adictional study of basics things and a little more, to pratice and learn more about the language\n",
    "# Same for english.\n",
    "\n",
    "# I can concatenate strings without the + operator\n",
    "print('Vinícius' ' ' 'Ferraz')"
   ]
  },
  {
   "cell_type": "code",
   "execution_count": 2,
   "metadata": {},
   "outputs": [],
   "source": [
    "\"\"\"\n",
    "this is a docstring\n",
    "I can also use:\n",
    "''' docstring '''\n",
    "\"\"\""
   ]
  },
  {
   "cell_type": "code",
   "execution_count": 3,
   "metadata": {},
   "outputs": [
    {
     "name": "stdout",
     "output_type": "stream",
     "text": [
      "what's your name\n",
      "vinicius\n",
      "vinicius is a beautiful name!\n"
     ]
    }
   ],
   "source": [
    "print(\"what's your name\")\n",
    "myname = input()\n",
    "print('{} is a beautiful name!'.format(myname))"
   ]
  },
  {
   "cell_type": "code",
   "execution_count": null,
   "metadata": {},
   "outputs": [],
   "source": [
    "a = 10\n",
    "a"
   ]
  },
  {
   "cell_type": "code",
   "execution_count": 7,
   "metadata": {},
   "outputs": [
    {
     "name": "stdout",
     "output_type": "stream",
     "text": [
      "0\n",
      "2\n",
      "4\n",
      "6\n",
      "8\n"
     ]
    }
   ],
   "source": [
    "i = 0\n",
    "for i in range(0, 10, 2):\n",
    "    print(i)"
   ]
  },
  {
   "cell_type": "code",
   "execution_count": 20,
   "metadata": {},
   "outputs": [
    {
     "name": "stdout",
     "output_type": "stream",
     "text": [
      "4 reached\n",
      "6 reached\n",
      "5 not reached - full loop has been executed\n"
     ]
    }
   ],
   "source": [
    "for i in [1,2,3,4,6,7]:\n",
    "    if i == 4:\n",
    "        print(\"4 reached\")\n",
    "    if i == 6:\n",
    "        print(\"6 reached\")\n",
    "else:\n",
    "    print(\"5 not reached - full loop has been executed\")"
   ]
  },
  {
   "cell_type": "code",
   "execution_count": 25,
   "metadata": {},
   "outputs": [
    {
     "name": "stdout",
     "output_type": "stream",
     "text": [
      "hello mister vinicius\n",
      "hello mister ferraz\n"
     ]
    }
   ],
   "source": [
    "def hello(name):\n",
    "    print(\"hello mister {}\".format(name))\n",
    "\n",
    "hello('vinicius')\n",
    "hello('ferraz')"
   ]
  },
  {
   "cell_type": "code",
   "execution_count": 29,
   "metadata": {},
   "outputs": [
    {
     "name": "stdout",
     "output_type": "stream",
     "text": [
      "that's it\n"
     ]
    }
   ],
   "source": [
    "import random\n",
    "def getanswer(answernumber):\n",
    "    if answernumber == 1:\n",
    "        return 'pouco'\n",
    "    if answernumber == 2:\n",
    "        return 'bom'\n",
    "    if answernumber == 3:\n",
    "        return 'demais'\n",
    "    if answernumber == 4:\n",
    "        return 'whaterver'\n",
    "    if answernumber == 5:\n",
    "        return 'ok'\n",
    "    if answernumber == 6:\n",
    "        return 'alright'\n",
    "    if answernumber == 7:\n",
    "        return \"that's it\"\n",
    "r = random.randint(1,9)\n",
    "fortune = getanswer(r)\n",
    "print(fortune)"
   ]
  },
  {
   "cell_type": "code",
   "execution_count": 34,
   "metadata": {},
   "outputs": [
    {
     "name": "stdout",
     "output_type": "stream",
     "text": [
      "hello\n",
      "True\n"
     ]
    }
   ],
   "source": [
    "spam = print(\"hello\")\n",
    "print(spam is None)"
   ]
  },
  {
   "cell_type": "code",
   "execution_count": 39,
   "metadata": {},
   "outputs": [
    {
     "name": "stdout",
     "output_type": "stream",
     "text": [
      "cats dogs mice\n",
      "cats-dogs-mice\n"
     ]
    }
   ],
   "source": [
    "print('cats', 'dogs', 'mice')\n",
    "print('cats', 'dogs', 'mice', sep=\"-\")"
   ]
  },
  {
   "cell_type": "code",
   "execution_count": 44,
   "metadata": {},
   "outputs": [
    {
     "name": "stdout",
     "output_type": "stream",
     "text": [
      "spam\n"
     ]
    }
   ],
   "source": [
    "def spam():\n",
    "    global eggs  #if you need to modify an global variable within function, use \"global\"\n",
    "    eggs = \"spam\"\n",
    "\n",
    "eggs = \"NOTSPAM\"\n",
    "spam()\n",
    "print(eggs)"
   ]
  },
  {
   "cell_type": "code",
   "execution_count": 45,
   "metadata": {},
   "outputs": [
    {
     "name": "stdout",
     "output_type": "stream",
     "text": [
      "27.5\n",
      "11.0\n",
      "Error: Invalid Arguent: division by zero\n",
      "None\n"
     ]
    }
   ],
   "source": [
    "def spam2(divideby):\n",
    "    try:\n",
    "        return 55/divideby\n",
    "    except ZeroDivisionError as e:\n",
    "        print('Error: Invalid Argument: {}'.format(e))\n",
    "\n",
    "print(spam2(2))\n",
    "print(spam2(5))\n",
    "print(spam2(0))"
   ]
  },
  {
   "cell_type": "code",
   "execution_count": 49,
   "metadata": {},
   "outputs": [
    {
     "name": "stdout",
     "output_type": "stream",
     "text": [
      "-- End of division --\n",
      "45.0\n",
      "-- End of division --\n",
      "18.0\n",
      "Error: Invalid Argument: division by zero\n",
      "-- End of division --\n",
      "None\n"
     ]
    }
   ],
   "source": [
    "def spam3(divideby):\n",
    "    try:\n",
    "        return 90/divideby\n",
    "    except ZeroDivisionError as e:\n",
    "        print('Error: Invalid Argument: {}'.format(e))\n",
    "    finally:\n",
    "        print(\"-- End of division --\")\n",
    "\n",
    "print(spam3(2))\n",
    "print(spam3(5))\n",
    "print(spam3(0))"
   ]
  },
  {
   "cell_type": "code",
   "execution_count": 82,
   "metadata": {},
   "outputs": [
    {
     "name": "stdout",
     "output_type": "stream",
     "text": [
      "['cat', 'dog', 'bird', 'crocodile']\n",
      "bird\n",
      "crocodile\n",
      "dog\n"
     ]
    }
   ],
   "source": [
    "list = ['cat', 'dog', 'bird', 'crocodile']\n",
    "print(list)\n",
    "print(list[2])\n",
    "print(list[-1])\n",
    "print(list[-3])"
   ]
  },
  {
   "cell_type": "code",
   "execution_count": 83,
   "metadata": {},
   "outputs": [
    {
     "name": "stdout",
     "output_type": "stream",
     "text": [
      "['cat', 'dog', 'bird']\n",
      "['cat', 'dog', 'bird']\n",
      "['cat', 'dog']\n",
      "['bird', 'crocodile']\n",
      "['cat', 'dog', 'bird', 'crocodile']\n"
     ]
    }
   ],
   "source": [
    "#Sublists\n",
    "print(list[0:3]) # 0 included, 3 not included\n",
    "print(list[0:-1]) # \n",
    "print(list[:2])  # ultil 2.. 2 not included\n",
    "print(list[2:])  # after 2.. 2 included\n",
    "list2 = list[:]\n",
    "print(list2)"
   ]
  },
  {
   "cell_type": "code",
   "execution_count": 85,
   "metadata": {},
   "outputs": [
    {
     "name": "stdout",
     "output_type": "stream",
     "text": [
      "['cat', 'dog', 'bird', 'crocodile', 'fish', 'shark', 'whale']\n",
      "['cat', 'dog', 'bird', 'crocodile', 'fish', 'shark', 'whale', 'ant']\n",
      "['cat', 'dog', 'crocodile', 'fish', 'shark', 'whale', 'ant']\n"
     ]
    }
   ],
   "source": [
    "#list concatenation\n",
    "list2 = ['fish', 'shark', 'whale']\n",
    "list3 = list + list2\n",
    "print(list3)\n",
    "#append\n",
    "list3.append('ant')\n",
    "print(list3)\n",
    "#del - remove value\n",
    "del list3[2]\n",
    "print(list3)"
   ]
  },
  {
   "cell_type": "code",
   "execution_count": 87,
   "metadata": {},
   "outputs": [
    {
     "name": "stdout",
     "output_type": "stream",
     "text": [
      "index 0 in animals is cat\n",
      "index 1 in animals is dog\n",
      "index 2 in animals is crocodile\n",
      "index 3 in animals is fish\n",
      "index 4 in animals is shark\n",
      "index 5 in animals is whale\n",
      "index 6 in animals is ant\n"
     ]
    }
   ],
   "source": [
    "#loops in lists\n",
    "for i, animal in enumerate(list3):\n",
    "    print('index {} in animals is {}'.format(str(i),animal))"
   ]
  },
  {
   "cell_type": "code",
   "execution_count": null,
   "metadata": {},
   "outputs": [],
   "source": []
  }
 ],
 "metadata": {
  "kernelspec": {
   "display_name": "Python 3",
   "language": "python",
   "name": "python3"
  },
  "language_info": {
   "codemirror_mode": {
    "name": "ipython",
    "version": 3
   },
   "file_extension": ".py",
   "mimetype": "text/x-python",
   "name": "python",
   "nbconvert_exporter": "python",
   "pygments_lexer": "ipython3",
   "version": "3.7.1"
  }
 },
 "nbformat": 4,
 "nbformat_minor": 2
}
