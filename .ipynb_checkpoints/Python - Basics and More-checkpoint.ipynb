{
 "cells": [
  {
   "cell_type": "markdown",
   "metadata": {},
   "source": [
    "# Vinícius Ferraz\n",
    "## Learning Python"
   ]
  },
  {
   "cell_type": "markdown",
   "metadata": {},
   "source": [
    "### I can concatenate strings without the + operator\n"
   ]
  },
  {
   "cell_type": "code",
   "execution_count": 103,
   "metadata": {},
   "outputs": [
    {
     "name": "stdout",
     "output_type": "stream",
     "text": [
      "Vinícius Ferraz\n"
     ]
    }
   ],
   "source": [
    "print('Vinícius' ' ' 'Ferraz')"
   ]
  },
  {
   "cell_type": "markdown",
   "metadata": {},
   "source": [
    "### Docstring"
   ]
  },
  {
   "cell_type": "code",
   "execution_count": 104,
   "metadata": {},
   "outputs": [
    {
     "data": {
      "text/plain": [
       "\" this is a docstring\\nI can also use:\\n    ''' docstring '''\\n\""
      ]
     },
     "execution_count": 104,
     "metadata": {},
     "output_type": "execute_result"
    }
   ],
   "source": [
    "\"\"\" this is a docstring\n",
    "I can also use:\n",
    "    ''' docstring '''\n",
    "\"\"\""
   ]
  },
  {
   "cell_type": "markdown",
   "metadata": {},
   "source": [
    "### Input()"
   ]
  },
  {
   "cell_type": "code",
   "execution_count": 105,
   "metadata": {},
   "outputs": [
    {
     "name": "stdout",
     "output_type": "stream",
     "text": [
      "what's your name\n",
      "Vinícius\n",
      "Vinícius is a beautiful name!\n"
     ]
    }
   ],
   "source": [
    "print(\"what's your name\")\n",
    "myname = input()\n",
    "print('{} is a beautiful name!'.format(myname))"
   ]
  },
  {
   "cell_type": "markdown",
   "metadata": {},
   "source": [
    "### For with steps"
   ]
  },
  {
   "cell_type": "code",
   "execution_count": 106,
   "metadata": {},
   "outputs": [
    {
     "name": "stdout",
     "output_type": "stream",
     "text": [
      "0\n",
      "3\n",
      "6\n",
      "9\n"
     ]
    }
   ],
   "source": [
    "for i in range(0, 10, 3):\n",
    "    print(i)"
   ]
  },
  {
   "cell_type": "markdown",
   "metadata": {},
   "source": [
    "### For else"
   ]
  },
  {
   "cell_type": "code",
   "execution_count": 107,
   "metadata": {},
   "outputs": [
    {
     "name": "stdout",
     "output_type": "stream",
     "text": [
      "4 reached\n",
      "6 reached\n",
      "5 not reached - full loop has been executed\n"
     ]
    }
   ],
   "source": [
    "for i in [1,2,3,4,6,7]:\n",
    "    if i == 4:\n",
    "        print(\"4 reached\")\n",
    "    if i == 6:\n",
    "        print(\"6 reached\")\n",
    "else:\n",
    "    print(\"5 not reached - full loop has been executed\")"
   ]
  },
  {
   "cell_type": "markdown",
   "metadata": {},
   "source": [
    "### Functions"
   ]
  },
  {
   "cell_type": "code",
   "execution_count": 108,
   "metadata": {},
   "outputs": [
    {
     "name": "stdout",
     "output_type": "stream",
     "text": [
      "hello mister Vinícius\n",
      "hello mister Ferraz\n"
     ]
    }
   ],
   "source": [
    "def hello(name):\n",
    "    print(\"hello mister {}\".format(name))\n",
    "\n",
    "hello('Vinícius')\n",
    "hello('Ferraz')"
   ]
  },
  {
   "cell_type": "markdown",
   "metadata": {},
   "source": [
    "### Random"
   ]
  },
  {
   "cell_type": "code",
   "execution_count": 109,
   "metadata": {},
   "outputs": [
    {
     "name": "stdout",
     "output_type": "stream",
     "text": [
      "Awesome!\n"
     ]
    }
   ],
   "source": [
    "import random\n",
    "def getanswer(answernumber):\n",
    "    if answernumber == 1:\n",
    "        return 'Nice!'\n",
    "    if answernumber == 2:\n",
    "        return 'Good!'\n",
    "    if answernumber == 3:\n",
    "        return 'Great!'\n",
    "    if answernumber == 4:\n",
    "        return 'Awesome!'\n",
    "    if answernumber == 5:\n",
    "        return 'Ok!'\n",
    "    if answernumber == 6:\n",
    "        return 'Wooow!'\n",
    "    if answernumber == 7:\n",
    "        return \"You're the best!\"\n",
    "r = random.randint(1,9)\n",
    "fortune = getanswer(r)\n",
    "print(fortune)"
   ]
  },
  {
   "cell_type": "markdown",
   "metadata": {},
   "source": [
    "### None"
   ]
  },
  {
   "cell_type": "code",
   "execution_count": 110,
   "metadata": {},
   "outputs": [
    {
     "name": "stdout",
     "output_type": "stream",
     "text": [
      "Hello\n",
      "True\n"
     ]
    }
   ],
   "source": [
    "spam = print(\"Hello\")\n",
    "print(spam is None)"
   ]
  },
  {
   "cell_type": "markdown",
   "metadata": {},
   "source": [
    "### sep"
   ]
  },
  {
   "cell_type": "code",
   "execution_count": 111,
   "metadata": {},
   "outputs": [
    {
     "name": "stdout",
     "output_type": "stream",
     "text": [
      "cats dogs mice\n",
      "cats-dogs-mice\n"
     ]
    }
   ],
   "source": [
    "print('cats', 'dogs', 'mice')\n",
    "print('cats', 'dogs', 'mice', sep=\"-\")"
   ]
  },
  {
   "cell_type": "markdown",
   "metadata": {},
   "source": [
    "### Global variable"
   ]
  },
  {
   "cell_type": "code",
   "execution_count": 112,
   "metadata": {},
   "outputs": [
    {
     "name": "stdout",
     "output_type": "stream",
     "text": [
      "spam\n"
     ]
    }
   ],
   "source": [
    "def spam():\n",
    "    global eggs  #if you need to modify an global variable within function, use \"global\"\n",
    "    eggs = \"spam\"\n",
    "\n",
    "eggs = \"NOTSPAM\"\n",
    "spam()\n",
    "print(eggs)"
   ]
  },
  {
   "cell_type": "markdown",
   "metadata": {},
   "source": [
    "### Try"
   ]
  },
  {
   "cell_type": "code",
   "execution_count": 113,
   "metadata": {},
   "outputs": [
    {
     "name": "stdout",
     "output_type": "stream",
     "text": [
      "27.5\n",
      "11.0\n",
      "Error: Invalid Argument: division by zero\n",
      "None\n"
     ]
    }
   ],
   "source": [
    "def spam2(divideby):\n",
    "    try:\n",
    "        return 55/divideby\n",
    "    except ZeroDivisionError as e:\n",
    "        print('Error: Invalid Argument: {}'.format(e))\n",
    "\n",
    "print(spam2(2))\n",
    "print(spam2(5))\n",
    "print(spam2(0))"
   ]
  },
  {
   "cell_type": "markdown",
   "metadata": {},
   "source": [
    "### Finally"
   ]
  },
  {
   "cell_type": "code",
   "execution_count": 114,
   "metadata": {},
   "outputs": [
    {
     "name": "stdout",
     "output_type": "stream",
     "text": [
      "-- End of division --\n",
      "45.0\n",
      "-- End of division --\n",
      "18.0\n",
      "Error: Invalid Argument: division by zero\n",
      "-- End of division --\n",
      "None\n"
     ]
    }
   ],
   "source": [
    "def spam3(divideby):\n",
    "    try:\n",
    "        return 90/divideby\n",
    "    except ZeroDivisionError as e:\n",
    "        print('Error: Invalid Argument: {}'.format(e))\n",
    "    finally:\n",
    "        print(\"-- End of division --\")\n",
    "\n",
    "print(spam3(2))\n",
    "print(spam3(5))\n",
    "print(spam3(0))"
   ]
  },
  {
   "cell_type": "markdown",
   "metadata": {},
   "source": [
    "### Trick"
   ]
  },
  {
   "cell_type": "code",
   "execution_count": 132,
   "metadata": {},
   "outputs": [
    {
     "name": "stdout",
     "output_type": "stream",
     "text": [
      "a = 99\n"
     ]
    }
   ],
   "source": [
    "# I can easily swap values of two variables\n",
    "a = 20\n",
    "b = 99\n",
    "a, b = b, a\n",
    "print('a = {}'.format(a))"
   ]
  },
  {
   "cell_type": "markdown",
   "metadata": {},
   "source": [
    "### pretty printing\n"
   ]
  },
  {
   "cell_type": "code",
   "execution_count": 135,
   "metadata": {},
   "outputs": [
    {
     "name": "stdout",
     "output_type": "stream",
     "text": [
      "{' ': 5,\n",
      " 'I': 1,\n",
      " 'a': 3,\n",
      " 'b': 1,\n",
      " 'c': 1,\n",
      " 'd': 2,\n",
      " 'g': 1,\n",
      " 'h': 1,\n",
      " 'i': 1,\n",
      " 'l': 1,\n",
      " 'o': 1,\n",
      " 'r': 1,\n",
      " 's': 1,\n",
      " 't': 2,\n",
      " 'w': 1,\n",
      " 'y': 1}\n"
     ]
    }
   ],
   "source": [
    "import pprint\n",
    "\n",
    "message = 'It was a bright cold day' # in April, and the clocks were striking thirteen.'\n",
    "count = {}\n",
    "\n",
    "for character in message:\n",
    "    count.setdefault(character,0)\n",
    "    count[character] = count[character]+1\n",
    "    \n",
    "pprint.pprint(count)"
   ]
  },
  {
   "cell_type": "markdown",
   "metadata": {},
   "source": [
    "#### ---------------------------------------------------------------------------------------------------------"
   ]
  },
  {
   "cell_type": "markdown",
   "metadata": {},
   "source": [
    "## Lists"
   ]
  },
  {
   "cell_type": "markdown",
   "metadata": {},
   "source": [
    "### List"
   ]
  },
  {
   "cell_type": "code",
   "execution_count": 115,
   "metadata": {},
   "outputs": [
    {
     "name": "stdout",
     "output_type": "stream",
     "text": [
      "['cat', 'dog', 'bird', 'crocodile']\n",
      "bird\n",
      "crocodile\n",
      "dog\n"
     ]
    }
   ],
   "source": [
    "animals = ['cat', 'dog', 'bird', 'crocodile']\n",
    "print(animals)\n",
    "print(animals[2])\n",
    "print(animals[-1])\n",
    "print(animals[-3])"
   ]
  },
  {
   "cell_type": "code",
   "execution_count": 116,
   "metadata": {},
   "outputs": [
    {
     "name": "stdout",
     "output_type": "stream",
     "text": [
      "cat name is timy. It's color is black and it is a crazy cat \n"
     ]
    }
   ],
   "source": [
    "cat = ['timy','black','crazy']\n",
    "name, color, feature = cat\n",
    "print(\"cat name is {}. It's color is {} and it is a {} cat \".format(name,color,feature))"
   ]
  },
  {
   "cell_type": "markdown",
   "metadata": {},
   "source": [
    "### Sublists"
   ]
  },
  {
   "cell_type": "code",
   "execution_count": 117,
   "metadata": {},
   "outputs": [
    {
     "name": "stdout",
     "output_type": "stream",
     "text": [
      "['cat', 'dog', 'bird']\n",
      "['cat', 'dog', 'bird']\n",
      "['cat', 'dog']\n",
      "['bird', 'crocodile']\n",
      "['cat', 'dog', 'bird', 'crocodile']\n"
     ]
    }
   ],
   "source": [
    "print(animals[0:3]) # 0 included, 3 not included\n",
    "print(animals[0:-1]) # \n",
    "print(animals[:2])  # ultil 2.. 2 not included\n",
    "print(animals[2:])  # after 2.. 2 included\n",
    "animals2 = animals[:]\n",
    "print(animals2)"
   ]
  },
  {
   "cell_type": "markdown",
   "metadata": {},
   "source": [
    "### List concatenation"
   ]
  },
  {
   "cell_type": "code",
   "execution_count": 118,
   "metadata": {},
   "outputs": [
    {
     "name": "stdout",
     "output_type": "stream",
     "text": [
      "['cat', 'dog', 'bird', 'crocodile', 'fish', 'shark', 'whale']\n",
      "['cat', 'dog', 'bird', 'crocodile', 'fish', 'shark', 'whale', 'ant']\n",
      "['cat', 'dog', 'crocodile', 'fish', 'shark', 'whale', 'ant']\n"
     ]
    }
   ],
   "source": [
    "animals2 = ['fish', 'shark', 'whale']\n",
    "animals3 = animals + animals2\n",
    "print(animals3)\n",
    "#append\n",
    "animals3.append('ant')\n",
    "print(animals3)\n",
    "#del - remove value\n",
    "del animals3[2]\n",
    "print(animals3)"
   ]
  },
  {
   "cell_type": "markdown",
   "metadata": {},
   "source": [
    "### Loops in lists + enumerate()"
   ]
  },
  {
   "cell_type": "code",
   "execution_count": 119,
   "metadata": {},
   "outputs": [
    {
     "name": "stdout",
     "output_type": "stream",
     "text": [
      "index 0 in animals is cat\n",
      "index 1 in animals is dog\n",
      "index 2 in animals is crocodile\n",
      "index 3 in animals is fish\n",
      "index 4 in animals is shark\n",
      "index 5 in animals is whale\n",
      "index 6 in animals is ant\n"
     ]
    }
   ],
   "source": [
    "for i, animal in enumerate(animals3):\n",
    "    print('index {} in animals is {}'.format(str(i),animal))"
   ]
  },
  {
   "cell_type": "markdown",
   "metadata": {},
   "source": [
    "### Loops in multiple lists with zip()"
   ]
  },
  {
   "cell_type": "code",
   "execution_count": 120,
   "metadata": {},
   "outputs": [
    {
     "name": "stdout",
     "output_type": "stream",
     "text": [
      "Peter is 16 years old\n",
      "Brian is 23 years old\n",
      "Tony is 38 years old\n",
      "False\n",
      "['Peter', 'Brian', 'Tony', 'Bruce']\n"
     ]
    }
   ],
   "source": [
    "name = ['Peter','Brian','Tony']\n",
    "age  = [16,23,38]\n",
    "\n",
    "for n, a in zip(name,age):\n",
    "    print('{} is {} years old'.format(n,a))\n",
    "    \n",
    "# in and not in\n",
    "print('Bruce' in name)\n",
    "if ('Bruce' not in name):\n",
    "    name.append('Bruce')\n",
    "print(name)"
   ]
  },
  {
   "cell_type": "markdown",
   "metadata": {},
   "source": [
    "### Finding a value in a list with index()"
   ]
  },
  {
   "cell_type": "code",
   "execution_count": 122,
   "metadata": {},
   "outputs": [
    {
     "name": "stdout",
     "output_type": "stream",
     "text": [
      "3\n"
     ]
    }
   ],
   "source": [
    "print(animals.index('crocodile'))"
   ]
  },
  {
   "cell_type": "markdown",
   "metadata": {},
   "source": [
    "### Insert and remove an value with insert() and remove()"
   ]
  },
  {
   "cell_type": "code",
   "execution_count": 123,
   "metadata": {},
   "outputs": [
    {
     "name": "stdout",
     "output_type": "stream",
     "text": [
      "['cat', 'dog', 'bird', 'bat', 'crocodile']\n",
      "['cat', 'dog', 'bird', 'crocodile']\n"
     ]
    }
   ],
   "source": [
    "animals.insert(3,'bat')\n",
    "print(animals)\n",
    "animals.remove('bat')\n",
    "print(animals)"
   ]
  },
  {
   "cell_type": "markdown",
   "metadata": {},
   "source": [
    "### Sorting values in a list with sort()"
   ]
  },
  {
   "cell_type": "code",
   "execution_count": 125,
   "metadata": {},
   "outputs": [
    {
     "name": "stdout",
     "output_type": "stream",
     "text": [
      "[40, 23, 19, 17, 12, 4, 3, 2, 1, 0, -4, -23]\n",
      "['Bear', 'bear', 'Bear', 'bear', 'bird', 'cat', 'crocodile', 'dog']\n"
     ]
    }
   ],
   "source": [
    "numbers = [3,4,1,2,19,12,23,0,-4,-23,40,17]\n",
    "numbers.sort(reverse=True) # sorting in reverse order\n",
    "animals.append('Bear')\n",
    "animals.append('bear')\n",
    "animals.sort(key=str.lower) # regular alphabetical order\n",
    "print(numbers)\n",
    "print(animals)"
   ]
  },
  {
   "cell_type": "markdown",
   "metadata": {},
   "source": [
    "### Tuples and lists - tuple() and list()"
   ]
  },
  {
   "cell_type": "code",
   "execution_count": 130,
   "metadata": {},
   "outputs": [
    {
     "name": "stdout",
     "output_type": "stream",
     "text": [
      "['Dad', 'Mom', 'Son', 'Dog']\n",
      "('Dad', 'Mom', 'Son', 'Dog')\n"
     ]
    }
   ],
   "source": [
    "family = ('Dad','Mom','Son','Dog')\n",
    "print(list(('Dad','Mom','Son','Dog')))\n",
    "print(tuple(family))"
   ]
  },
  {
   "cell_type": "markdown",
   "metadata": {},
   "source": [
    "#### ---------------------------------------------------------------------------------------------------------"
   ]
  },
  {
   "cell_type": "markdown",
   "metadata": {},
   "source": [
    "## Dictionaries"
   ]
  },
  {
   "cell_type": "markdown",
   "metadata": {},
   "source": [
    "### Dictionaries, keys(), values() and items()"
   ]
  },
  {
   "cell_type": "code",
   "execution_count": 24,
   "metadata": {},
   "outputs": [
    {
     "name": "stdout",
     "output_type": "stream",
     "text": [
      "dict_keys(['Name', 'Age', 'Sport']) \n",
      "\n",
      "Vinícius\n",
      "23\n",
      "Soccer\n",
      "\r\n",
      "dict_items([('Name', 'Vinícius'), ('Age', 23), ('Sport', 'Soccer')]) \n",
      "\n",
      "key = Name, value = Vinícius\n",
      "key = Age, value = 23\n",
      "key = Sport, value = Soccer\n",
      "\r\n",
      "True\n",
      "False\n",
      "True\n"
     ]
    }
   ],
   "source": [
    "vinicius = {'Name': 'Vinícius','Age':23,'Sport':'Soccer'}\n",
    "print(vinicius.keys(),'\\n')\n",
    "for v in vinicius.values():\n",
    "    print(v)\n",
    "\n",
    "print('\\r')\n",
    "print(vinicius.items(),'\\n')\n",
    "\n",
    "# Iterating over keys and values\n",
    "for k,v in vinicius.items():\n",
    "    print('key = {}, value = {}'.format(k,str(v)))\n",
    "\n",
    "print('\\r')\n",
    "# Checking keys or values\n",
    "print('Name' in vinicius.keys())\n",
    "print(29 in vinicius.values())\n",
    "print('Name' in vinicius)"
   ]
  },
  {
   "cell_type": "markdown",
   "metadata": {},
   "source": [
    "### Dict methods"
   ]
  },
  {
   "cell_type": "code",
   "execution_count": 25,
   "metadata": {},
   "outputs": [
    {
     "name": "stdout",
     "output_type": "stream",
     "text": [
      "vinicius has 23 years old and his favorite sport is Soccer\n",
      "{'Name': 'Tom', 'Color': 'Black', 'Age': 5}\n",
      "{'Name': 'Rex', 'Color': 'White', 'Age': 7}\n",
      "{' ': 13,\n",
      " ',': 1,\n",
      " '.': 1,\n",
      " 'A': 1,\n",
      " 'I': 1,\n",
      " 'a': 4,\n",
      " 'b': 1,\n",
      " 'c': 3,\n",
      " 'd': 3,\n",
      " 'e': 5,\n",
      " 'g': 2,\n",
      " 'h': 3,\n",
      " 'i': 6,\n",
      " 'k': 2,\n",
      " 'l': 3,\n",
      " 'n': 4,\n",
      " 'o': 2,\n",
      " 'p': 1,\n",
      " 'r': 5,\n",
      " 's': 3,\n",
      " 't': 6,\n",
      " 'w': 2,\n",
      " 'y': 1}\n"
     ]
    }
   ],
   "source": [
    "# get()\n",
    "vinicius = {'Name': 'Vinícius','Age':23,'Sport':'Soccer'}\n",
    "print('vinicius has {} years old and his favorite sport is {}'.format(str(vinicius.get('Age',0)),str(vinicius.get('Sport',0))))\n",
    "\n",
    "# setdefault()\n",
    "cat = {'Name':'Tom','Color':'Black'}\n",
    "dog = {'Name':'Rex','Color':'White'}\n",
    "\n",
    "if 'Age' not in cat:\n",
    "    cat['Age'] = 5\n",
    "print(cat)\n",
    "\n",
    "dog.setdefault('Age',7)\n",
    "print(dog)"
   ]
  },
  {
   "cell_type": "markdown",
   "metadata": {},
   "source": [
    "### Merge two dictionaries"
   ]
  },
  {
   "cell_type": "code",
   "execution_count": 136,
   "metadata": {},
   "outputs": [
    {
     "name": "stdout",
     "output_type": "stream",
     "text": [
      "{'a': 1, 'b': 3, 'c': 4}\n"
     ]
    }
   ],
   "source": [
    "x = {'a':1,'b':2}\n",
    "y = {'b':3,'c':4}\n",
    "z = {**x,**y}\n",
    "print(z)"
   ]
  },
  {
   "cell_type": "markdown",
   "metadata": {},
   "source": [
    "## Sets"
   ]
  },
  {
   "cell_type": "markdown",
   "metadata": {},
   "source": [
    "### Set is an unordered collection without duplicate elements"
   ]
  },
  {
   "cell_type": "code",
   "execution_count": 148,
   "metadata": {},
   "outputs": [
    {
     "name": "stdout",
     "output_type": "stream",
     "text": [
      "{1, 2, 3, 4, 5, 9}\n"
     ]
    }
   ],
   "source": [
    "s = {1,2,3}\n",
    "f = set([1,2,3])\n",
    "\n",
    "g = {} #this is a dictionary\n",
    "#print(type(g))\n",
    "\n",
    "s = {1,9,3,2,3,4,1,2,3,4,5,9,1,2}\n",
    "print(s)\n",
    "\n",
    "# sets has no index\n",
    "#print(s[0])"
   ]
  },
  {
   "cell_type": "markdown",
   "metadata": {},
   "source": [
    "### add(), update()"
   ]
  },
  {
   "cell_type": "code",
   "execution_count": 149,
   "metadata": {},
   "outputs": [
    {
     "name": "stdout",
     "output_type": "stream",
     "text": [
      "{1, 2, 3, 4, 5, 7, 9}\n",
      "{1, 2, 3, 4, 5, 6, 7, 9, 12, 13}\n"
     ]
    }
   ],
   "source": [
    "s.add(7) #adds a single element\n",
    "print(s)\n",
    "s.update([6,12,13]) #adds multiple elements\n",
    "print(s)"
   ]
  },
  {
   "cell_type": "markdown",
   "metadata": {},
   "source": [
    "### remove(), discard()"
   ]
  },
  {
   "cell_type": "code",
   "execution_count": 150,
   "metadata": {},
   "outputs": [
    {
     "name": "stdout",
     "output_type": "stream",
     "text": [
      "{1, 3, 4, 5, 6, 7, 9, 12, 13}\n",
      "{1, 3, 4, 5, 7, 9, 12, 13}\n"
     ]
    }
   ],
   "source": [
    "# remove() will return a 'key error' if the value doesn't exist\n",
    "\n",
    "s.remove(2)\n",
    "print(s)\n",
    "s.discard(6)\n",
    "#s.remove(19)\n",
    "print(s)"
   ]
  },
  {
   "cell_type": "markdown",
   "metadata": {},
   "source": [
    "### union()"
   ]
  },
  {
   "cell_type": "code",
   "execution_count": 154,
   "metadata": {},
   "outputs": [
    {
     "name": "stdout",
     "output_type": "stream",
     "text": [
      "{1, 2, 3, 9, 10}\n",
      "{1, 2, 3}\n",
      "{1, 2, 3, 4, 6, 8}\n",
      "{8, 4, 6}\n"
     ]
    }
   ],
   "source": [
    "# union() or | will create a new set with all elements from the provided sets\n",
    "s1 = {1,2,3}\n",
    "s2 = {1,9,10}\n",
    "s3 = {4,6,8}\n",
    "\n",
    "print(s1.union(s2))\n",
    "print(s1)\n",
    "print(s3 | s1)\n",
    "print(s3)"
   ]
  },
  {
   "cell_type": "code",
   "execution_count": 155,
   "metadata": {},
   "outputs": [],
   "source": [
    "### intersection()"
   ]
  },
  {
   "cell_type": "code",
   "execution_count": 158,
   "metadata": {},
   "outputs": [
    {
     "name": "stdout",
     "output_type": "stream",
     "text": [
      "{3}\n",
      "{3, 5}\n"
     ]
    }
   ],
   "source": [
    "# intersection() or & will create a set with only the elements that are common to all provided sets\n",
    "s1 = {1,2,3}\n",
    "s2 = {3,4,5}\n",
    "s3 = {3,5,6}\n",
    "\n",
    "print(s1.intersection(s2,s3))\n",
    "print(s2&s3)"
   ]
  },
  {
   "cell_type": "markdown",
   "metadata": {},
   "source": [
    "### difference(), symetric_difference()"
   ]
  },
  {
   "cell_type": "code",
   "execution_count": 159,
   "metadata": {},
   "outputs": [
    {
     "name": "stdout",
     "output_type": "stream",
     "text": [
      "s1-s3:  {2}\n",
      "s1^s3:  {2, 5, 7}\n"
     ]
    }
   ],
   "source": [
    "# difference or - will return only the elements that are in one of the sets and not in the other\n",
    "# s1 - s2  shows s1 elements that are not in s2.. but doesn't show s2 elements.\n",
    "s1 = {1,2,3}\n",
    "s2 = {2,3,4,5,6}\n",
    "s3 = {1,3,5,7}\n",
    "\n",
    "print('s1-s3: ',s1-s3)\n",
    "\n",
    "# symetric_difference or ^ will return all elements that are not commom between them\n",
    "# s1 ^ s2  shows s1 elements that are not in s2 and s2 elements that aren't in s1.\n",
    "print('s1^s3: ',s1^s3)"
   ]
  },
  {
   "cell_type": "markdown",
   "metadata": {},
   "source": [
    "## Itertools"
   ]
  },
  {
   "cell_type": "markdown",
   "metadata": {},
   "source": [
    "### accumulate()"
   ]
  },
  {
   "cell_type": "code",
   "execution_count": 165,
   "metadata": {},
   "outputs": [
    {
     "name": "stdout",
     "output_type": "stream",
     "text": [
      "1\n",
      "2\n",
      "6\n",
      "24\n",
      "120\n"
     ]
    }
   ],
   "source": [
    "import operator\n",
    "import itertools\n",
    "\n",
    "# accumulate(iterable,function) returns the results of a function\n",
    "data = [1,2,3,4,5]\n",
    "result = itertools.accumulate(data,operator.mul)\n",
    "for each in result:\n",
    "    print(each)"
   ]
  },
  {
   "cell_type": "markdown",
   "metadata": {},
   "source": [
    "### combinations()"
   ]
  },
  {
   "cell_type": "code",
   "execution_count": 167,
   "metadata": {},
   "outputs": [
    {
     "name": "stdout",
     "output_type": "stream",
     "text": [
      "('circle', 'triangle')\n",
      "('circle', 'square')\n",
      "('triangle', 'square')\n",
      "\r\n",
      "('circle', 'circle')\n",
      "('circle', 'triangle')\n",
      "('circle', 'square')\n",
      "('triangle', 'triangle')\n",
      "('triangle', 'square')\n",
      "('square', 'square')\n"
     ]
    }
   ],
   "source": [
    "shapes = ['circle','triangle','square']\n",
    "result = itertools.combinations(shapes,2)\n",
    "for each in result:\n",
    "    print(each)\n",
    "\n",
    "print('\\r')\n",
    "result = itertools.combinations_with_replacement(shapes,2) # allow repetitions like (circle,circle)\n",
    "for each in result:\n",
    "    print(each)"
   ]
  },
  {
   "cell_type": "markdown",
   "metadata": {},
   "source": [
    "### count(start,step)"
   ]
  },
  {
   "cell_type": "code",
   "execution_count": 169,
   "metadata": {},
   "outputs": [
    {
     "name": "stdout",
     "output_type": "stream",
     "text": [
      "1\n",
      "5\n",
      "9\n",
      "13\n",
      "17\n",
      "21\n"
     ]
    }
   ],
   "source": [
    "for i in itertools.count(1,4):\n",
    "    print(i)\n",
    "    if i > 20:\n",
    "        break"
   ]
  },
  {
   "cell_type": "markdown",
   "metadata": {},
   "source": [
    "### cycle()"
   ]
  },
  {
   "cell_type": "code",
   "execution_count": 172,
   "metadata": {},
   "outputs": [
    {
     "name": "stdout",
     "output_type": "stream",
     "text": [
      "\r\n",
      "black\n",
      "blue\n",
      "yellow\n",
      "black\n",
      "blue\n",
      "yellow\n",
      "black\n",
      "blue\n"
     ]
    }
   ],
   "source": [
    "# cycle() cycles through an iterator endlessly\n",
    "print('\\r')\n",
    "colors = ['black','blue','yellow']\n",
    "i = 0\n",
    "for color in itertools.cycle(colors):\n",
    "    print(color)\n",
    "    i+=1\n",
    "    if i > 7:\n",
    "        break"
   ]
  },
  {
   "cell_type": "markdown",
   "metadata": {},
   "source": [
    "### chain()"
   ]
  },
  {
   "cell_type": "code",
   "execution_count": 176,
   "metadata": {},
   "outputs": [
    {
     "name": "stdout",
     "output_type": "stream",
     "text": [
      "red\n",
      "blue\n",
      "yellow\n",
      "black\n",
      "circle\n",
      "square\n",
      "triangle\n",
      "diamond\n",
      "12\n",
      "23\n",
      "45\n",
      "67\n"
     ]
    }
   ],
   "source": [
    "# chain() take a series of iterables and return them as one long iterable\n",
    "colors = ['red','blue','yellow','black']\n",
    "shapes = ['circle','square','triangle','diamond']\n",
    "ages = [12,23,45,67]\n",
    "\n",
    "result = itertools.chain(colors,shapes,ages)\n",
    "for each in result:\n",
    "    print(each)"
   ]
  },
  {
   "cell_type": "markdown",
   "metadata": {},
   "source": [
    "### compress()"
   ]
  },
  {
   "cell_type": "code",
   "execution_count": 177,
   "metadata": {},
   "outputs": [
    {
     "name": "stdout",
     "output_type": "stream",
     "text": [
      "black\n",
      "yellow\n",
      "red\n"
     ]
    }
   ],
   "source": [
    "# compress() filtes one iterable with another\n",
    "colors = ['black','blue','yellow','red','white','green']\n",
    "select = [True,False,True,True,False,False]\n",
    "result = itertools.compress(colors,select)\n",
    "for each in result:\n",
    "    print(each)"
   ]
  },
  {
   "cell_type": "markdown",
   "metadata": {},
   "source": [
    "### dropwhile()"
   ]
  },
  {
   "cell_type": "code",
   "execution_count": 179,
   "metadata": {},
   "outputs": [
    {
     "name": "stdout",
     "output_type": "stream",
     "text": [
      "3\n",
      "4\n",
      "5\n",
      "6\n",
      "1\n",
      "2\n",
      "1\n"
     ]
    }
   ],
   "source": [
    "# dropwhile() drops elements of an iterator as long the predicate is true\n",
    "data = [1,2,3,4,5,6,1,2,1]\n",
    "result = itertools.dropwhile(lambda x: x<3, data) #while x<3 the elements will be drop, then the dropwhile ends\n",
    "for each in result:\n",
    "    print(each)"
   ]
  },
  {
   "cell_type": "markdown",
   "metadata": {},
   "source": [
    "### filterfalse()"
   ]
  },
  {
   "cell_type": "code",
   "execution_count": 180,
   "metadata": {},
   "outputs": [
    {
     "name": "stdout",
     "output_type": "stream",
     "text": [
      "3\n",
      "4\n",
      "5\n",
      "6\n"
     ]
    }
   ],
   "source": [
    "# filterfalse() filters elements from iterable returning when the predicate is false\n",
    "result = itertools.filterfalse(lambda x: x<3, data) #remove all elements that are true for the predicate\n",
    "for each in result:\n",
    "    print(each)"
   ]
  },
  {
   "cell_type": "markdown",
   "metadata": {},
   "source": [
    "### groupby()"
   ]
  },
  {
   "cell_type": "code",
   "execution_count": 181,
   "metadata": {},
   "outputs": [
    {
     "name": "stdout",
     "output_type": "stream",
     "text": [
      "autobot\n",
      "[{'name': 'blaster', 'faction': 'autobot'}]\n",
      "decepticon\n",
      "[{'name': 'galbatron', 'faction': 'decepticon'}]\n",
      "autobot\n",
      "[{'name': 'jazz', 'faction': 'autobot'}, {'name': 'metroplex', 'faction': 'autobot'}]\n",
      "decepticon\n",
      "[{'name': 'megatron', 'faction': 'decepticon'}, {'name': 'starscream', 'faction': 'decepticon'}]\n"
     ]
    }
   ],
   "source": [
    "robots = [\n",
    "    {'name':'blaster',\n",
    "    'faction':'autobot'},\n",
    "    {'name':'galbatron',\n",
    "    'faction':'decepticon'},\n",
    "    {'name':'jazz',\n",
    "     'faction':'autobot'},\n",
    "    {'name':'metroplex',\n",
    "     'faction':'autobot'},\n",
    "    {'name':'megatron',\n",
    "     'faction':'decepticon'},\n",
    "    {'name':'starscream',\n",
    "     'faction':'decepticon'}]\n",
    "\n",
    "for key, group in itertools.groupby(robots,key=lambda x: x['faction']):\n",
    "    print(key)\n",
    "    print(list(group))"
   ]
  },
  {
   "cell_type": "markdown",
   "metadata": {},
   "source": [
    "### islice()"
   ]
  },
  {
   "cell_type": "code",
   "execution_count": 183,
   "metadata": {},
   "outputs": [
    {
     "name": "stdout",
     "output_type": "stream",
     "text": [
      "red\n",
      "orange\n"
     ]
    }
   ],
   "source": [
    "# islice() allows to cut a piece of an iterable\n",
    "colors = ['red','orange','yellow','green','blue','black']\n",
    "few_colors = itertools.islice(colors,2)\n",
    "for each in few_colors:\n",
    "    print(each)"
   ]
  },
  {
   "cell_type": "markdown",
   "metadata": {},
   "source": [
    "### permutations()"
   ]
  },
  {
   "cell_type": "code",
   "execution_count": 185,
   "metadata": {},
   "outputs": [
    {
     "name": "stdout",
     "output_type": "stream",
     "text": [
      "('a', 'b', 'c')\n",
      "('a', 'c', 'b')\n",
      "('b', 'a', 'c')\n",
      "('b', 'c', 'a')\n",
      "('c', 'a', 'b')\n",
      "('c', 'b', 'a')\n"
     ]
    }
   ],
   "source": [
    "data = ['a','b','c']\n",
    "result = itertools.permutations(data)\n",
    "result2 = itertools.permutations(data,2)\n",
    "for each in result:\n",
    "    print(each)"
   ]
  },
  {
   "cell_type": "markdown",
   "metadata": {},
   "source": [
    "### product()"
   ]
  },
  {
   "cell_type": "code",
   "execution_count": 189,
   "metadata": {},
   "outputs": [
    {
     "name": "stdout",
     "output_type": "stream",
     "text": [
      "(1, 'a')\n",
      "(1, 'b')\n",
      "(1, 'c')\n",
      "(2, 'a')\n",
      "(2, 'b')\n",
      "(2, 'c')\n",
      "(3, 'a')\n",
      "(3, 'b')\n",
      "(3, 'c')\n"
     ]
    }
   ],
   "source": [
    "# product() creates a cartesian product from provided iterables\n",
    "num_data = [1,2,3]\n",
    "letter_data = ['a','b','c']\n",
    "result = itertools.product(num_data,letter_data)\n",
    "for each in result:\n",
    "    print(each)"
   ]
  },
  {
   "cell_type": "markdown",
   "metadata": {},
   "source": [
    "### repeat()"
   ]
  },
  {
   "cell_type": "code",
   "execution_count": 190,
   "metadata": {},
   "outputs": [
    {
     "name": "stdout",
     "output_type": "stream",
     "text": [
      "\r\n",
      "repeating\n",
      "repeating\n",
      "repeating\n"
     ]
    }
   ],
   "source": [
    "# repeat() repeat an object for argument times\n",
    "print('\\r')\n",
    "for i in itertools.repeat(\"repeating\",3):# repeats \"repeating\" for 3 times\n",
    "    print(i)"
   ]
  },
  {
   "cell_type": "markdown",
   "metadata": {},
   "source": [
    "### starmap() "
   ]
  },
  {
   "cell_type": "code",
   "execution_count": 192,
   "metadata": {},
   "outputs": [
    {
     "name": "stdout",
     "output_type": "stream",
     "text": [
      "8\n",
      "15\n",
      "27\n"
     ]
    }
   ],
   "source": [
    "# starmap() computes the function over the iterable using obtained arguments\n",
    "data = [(2, 4), (3, 5), (9, 3)]\n",
    "result = itertools.starmap(operator.mul,data)\n",
    "for each in result:\n",
    "    print(each)"
   ]
  },
  {
   "cell_type": "markdown",
   "metadata": {},
   "source": [
    "### takewhile()"
   ]
  },
  {
   "cell_type": "code",
   "execution_count": 195,
   "metadata": {},
   "outputs": [
    {
     "name": "stdout",
     "output_type": "stream",
     "text": [
      "\r\n",
      "1\n",
      "2\n",
      "3\n",
      "4\n",
      "5\n"
     ]
    }
   ],
   "source": [
    "# takewhile() the oposite of dropwhile. takewhile keeps elements until condition is reached\n",
    "print('\\r')\n",
    "data = [1, 2, 3, 4, 5, 6, 7, 8, 9, 10]\n",
    "result = itertools.takewhile(lambda x: x<6, data) \n",
    "for each in result:\n",
    "    print(each)"
   ]
  },
  {
   "cell_type": "markdown",
   "metadata": {},
   "source": [
    "### tee()"
   ]
  },
  {
   "cell_type": "code",
   "execution_count": 197,
   "metadata": {},
   "outputs": [
    {
     "name": "stdout",
     "output_type": "stream",
     "text": [
      "blue\n",
      "black\n",
      "orange\n",
      "red\n",
      "yellow\n",
      "green\n"
     ]
    }
   ],
   "source": [
    "# tee() returns n independent iterators from a single iterable.\n",
    "colors = ['blue','black','orange','red','yellow','green']\n",
    "alpha_colors, beta_colors = itertools.tee(colors)\n",
    "for each in beta_colors:\n",
    "    print(each)"
   ]
  },
  {
   "cell_type": "markdown",
   "metadata": {},
   "source": [
    "### zip_longest()"
   ]
  },
  {
   "cell_type": "code",
   "execution_count": 200,
   "metadata": {},
   "outputs": [
    {
     "name": "stdout",
     "output_type": "stream",
     "text": [
      "('red', 1)\n",
      "('blue', 2)\n",
      "('yellow', 3)\n",
      "('black', 4)\n",
      "('white', 5)\n",
      "(None, 6)\n",
      "(None, 7)\n",
      "(None, 8)\n",
      "(None, 9)\n",
      "(None, 10)\n"
     ]
    }
   ],
   "source": [
    "# zip_longest() aggregates elements from each iterables.\n",
    "colors = ['red','blue','yellow','black','white']\n",
    "numbers = [1,2,3,4,5,6,7,8,9,10]\n",
    "for each in itertools.zip_longest(colors,numbers,fillvalue=None):\n",
    "    print(each)"
   ]
  },
  {
   "cell_type": "markdown",
   "metadata": {},
   "source": [
    "#### ---------------------------------------------------------------------------------------------------------"
   ]
  },
  {
   "cell_type": "markdown",
   "metadata": {},
   "source": [
    "## Comprehensions"
   ]
  },
  {
   "cell_type": "code",
   "execution_count": 203,
   "metadata": {},
   "outputs": [
    {
     "name": "stdout",
     "output_type": "stream",
     "text": [
      "[0, 2, 4, 6, 8, 10]\n",
      "\r\n",
      "{'DEF', 'ABC', 'GHI'}\n",
      "\r\n",
      "{'vinicius': 'name', '23': 'age', 'soccer': 'sport'}\n"
     ]
    }
   ],
   "source": [
    "# list\n",
    "a = [1,3,5,7,9,11]\n",
    "print([i-1 for i in a])\n",
    "print('\\r')\n",
    "\n",
    "#set\n",
    "b = {'abc','def','ghi'}\n",
    "print({s.upper() for s in b})\n",
    "print('\\r')\n",
    "\n",
    "#dict\n",
    "c = {'name':'vinicius','age':'23','sport':'soccer'}\n",
    "print({v:k for k,v in c.items()})"
   ]
  },
  {
   "cell_type": "markdown",
   "metadata": {},
   "source": [
    "#### ---------------------------------------------------------------------------------------------------------"
   ]
  },
  {
   "cell_type": "markdown",
   "metadata": {},
   "source": [
    "## Manipulating Strings"
   ]
  },
  {
   "cell_type": "code",
   "execution_count": 205,
   "metadata": {},
   "outputs": [
    {
     "name": "stdout",
     "output_type": "stream",
     "text": [
      "Tom\\'s cat is black\n",
      "\n",
      "Hello Tom\n",
      "I heard that your cat is black\n",
      "It's true ?\n",
      "\n"
     ]
    }
   ],
   "source": [
    "# Raw Strings -> ignores all escape characters and print backslash\n",
    "print(r'Tom\\'s cat is black')\n",
    "\n",
    "# Multiline string with triple quotes\n",
    "print('''\n",
    "Hello Tom\n",
    "I heard that your cat is black\n",
    "It's true ?\n",
    "''')"
   ]
  },
  {
   "cell_type": "markdown",
   "metadata": {},
   "source": [
    "### Indexing and slicing strings"
   ]
  },
  {
   "cell_type": "code",
   "execution_count": 206,
   "metadata": {},
   "outputs": [
    {
     "name": "stdout",
     "output_type": "stream",
     "text": [
      "H\n",
      "Hello\n",
      "Hello W\n",
      " World!\n",
      "!dlroW olleH\n"
     ]
    }
   ],
   "source": [
    "spam = 'Hello World!'\n",
    "print(spam[0])\n",
    "print(spam[0:5])\n",
    "print(spam[:7])\n",
    "print(spam[5:])\n",
    "text = spam[::-1]\n",
    "print(text)"
   ]
  },
  {
   "cell_type": "markdown",
   "metadata": {},
   "source": [
    "### 'in' and 'not in'"
   ]
  },
  {
   "cell_type": "code",
   "execution_count": 207,
   "metadata": {},
   "outputs": [
    {
     "name": "stdout",
     "output_type": "stream",
     "text": [
      "True\n",
      "True\n",
      "\r\n",
      "True\n"
     ]
    }
   ],
   "source": [
    "# 'in' and 'not in' with strings and lists\n",
    "print('vinicius' in 'vinicius rodrigues ferraz')\n",
    "print('batman' not in 'vinicius ferraz')\n",
    "print('\\r')\n",
    "print('vinicius' in ['alberto','bruno','guilherme','vinicius'])"
   ]
  },
  {
   "cell_type": "markdown",
   "metadata": {},
   "source": [
    "### upper(), lower(), isupper() and islower"
   ]
  },
  {
   "cell_type": "code",
   "execution_count": 210,
   "metadata": {},
   "outputs": [
    {
     "name": "stdout",
     "output_type": "stream",
     "text": [
      "HELLO WORLD!\n",
      "vinicius\n",
      "True\n",
      "\r\n",
      "True\n"
     ]
    }
   ],
   "source": [
    "spam = 'hello world!'\n",
    "spam = spam.upper()\n",
    "print(spam)\n",
    "\n",
    "spam = 'VINICIUS'\n",
    "print(spam.lower())\n",
    "\n",
    "spam = 'vinicius'\n",
    "print(spam.islower())\n",
    "\n",
    "print('\\r')\n",
    "print('abc12345'.islower())"
   ]
  },
  {
   "cell_type": "markdown",
   "metadata": {},
   "source": [
    "### isX methods"
   ]
  },
  {
   "cell_type": "code",
   "execution_count": 212,
   "metadata": {},
   "outputs": [
    {
     "name": "stdout",
     "output_type": "stream",
     "text": [
      "True\n",
      "True\n",
      "True\n",
      "True\n",
      "True\n"
     ]
    }
   ],
   "source": [
    "# isalpha() returns true if string is only letters - not blank\n",
    "spam = 'vinicius'\n",
    "print(spam.isalpha())\n",
    "\n",
    "# isnum()   returns true if string is letters and numbers - not blank\n",
    "spam = 'vinicius123'\n",
    "print(spam.isalnum())\n",
    "\n",
    "# isdecimal() returns true if string is only numbers - not blank\n",
    "spam = '21341213'\n",
    "print(spam.isdecimal())\n",
    "\n",
    "# isspace() returns true if string is only spaces, tabs and newlines - not blank\n",
    "spam = '  \\n \\r \\t'\n",
    "print(spam.isspace())\n",
    "\n",
    "# istitle() returns true if string is only words that begin with an uppercase letter, folowed by only lowercase letters.\n",
    "spam = 'Titulo Muito Doido'\n",
    "print(spam.istitle())"
   ]
  },
  {
   "cell_type": "markdown",
   "metadata": {},
   "source": [
    "### startswith() and endswith()"
   ]
  },
  {
   "cell_type": "code",
   "execution_count": 214,
   "metadata": {},
   "outputs": [
    {
     "name": "stdout",
     "output_type": "stream",
     "text": [
      "True\n",
      "True\n"
     ]
    }
   ],
   "source": [
    "spam = 'vinicius ferraz'\n",
    "print(spam.startswith('vinicius'))\n",
    "print(spam.endswith('ferraz'))"
   ]
  },
  {
   "cell_type": "markdown",
   "metadata": {},
   "source": [
    "### join() and split()"
   ]
  },
  {
   "cell_type": "code",
   "execution_count": 215,
   "metadata": {},
   "outputs": [
    {
     "name": "stdout",
     "output_type": "stream",
     "text": [
      "blue--black--red--green\n",
      "\r\n",
      "['My', 'name', 'is', 'Vinicius.', 'I', 'love', 'soccer!']\n",
      "['My name is Vinicius', ' I love soccer!']\n"
     ]
    }
   ],
   "source": [
    "spam = '--'.join(['blue','black','red','green'])\n",
    "print(spam)\n",
    "print('\\r')\n",
    "spam = 'My name is Vinicius. I love soccer!'\n",
    "print(spam.split())\n",
    "print(spam.split('.'))"
   ]
  },
  {
   "cell_type": "markdown",
   "metadata": {},
   "source": [
    "### rjust(), ljust(), center()"
   ]
  },
  {
   "cell_type": "code",
   "execution_count": 216,
   "metadata": {},
   "outputs": [
    {
     "name": "stdout",
     "output_type": "stream",
     "text": [
      "............vinicius\n",
      "vinicius............\n",
      "...........vinicius...........\n"
     ]
    }
   ],
   "source": [
    "spam = 'vinicius'\n",
    "print(spam.rjust(20,'.'))\n",
    "print(spam.ljust(20,'.'))\n",
    "print(spam.center(30,'.'))"
   ]
  },
  {
   "cell_type": "markdown",
   "metadata": {},
   "source": [
    "### strip() rstrip() and lstrip()"
   ]
  },
  {
   "cell_type": "code",
   "execution_count": 223,
   "metadata": {},
   "outputs": [
    {
     "name": "stdout",
     "output_type": "stream",
     "text": [
      "           Hello World! \n",
      "Hello World! Spam\n",
      "BaconSpamEggs\n",
      "BaconSpamEggs\n"
     ]
    }
   ],
   "source": [
    "spam = '           Hello World! Spam'\n",
    "print(spam.rstrip('Spam'))\n",
    "print(spam.lstrip(' '))\n",
    "\n",
    "spam = 'SpamSpamBaconSpamEggsSpamSpamS'\n",
    "spam = spam.strip('Spam') #removes argument from end/begin of string\n",
    "print(spam)\n",
    "\n",
    "spam = 'SpamSpamBaconSpamEggs'\n",
    "spam = spam.strip('Spam') #removing only from begin/end too\n",
    "print(spam)"
   ]
  },
  {
   "cell_type": "markdown",
   "metadata": {},
   "source": [
    "### pyperclip"
   ]
  },
  {
   "cell_type": "code",
   "execution_count": 225,
   "metadata": {},
   "outputs": [
    {
     "data": {
      "text/plain": [
       "'HELLO! '"
      ]
     },
     "execution_count": 225,
     "metadata": {},
     "output_type": "execute_result"
    }
   ],
   "source": [
    "import pyperclip\n",
    "\n",
    "pyperclip.copy('HELLO! ')\n",
    "pyperclip.paste()"
   ]
  },
  {
   "cell_type": "markdown",
   "metadata": {},
   "source": [
    "#### More"
   ]
  },
  {
   "cell_type": "code",
   "execution_count": 227,
   "metadata": {},
   "outputs": [
    {
     "name": "stdout",
     "output_type": "stream",
     "text": [
      "o nome do peixe é nemo\n",
      "o peixe tem 5 anos\n"
     ]
    }
   ],
   "source": [
    "# %\n",
    "name = 'nemo'\n",
    "age = 5\n",
    "print('o nome do peixe é %s' % name)\n",
    "print('o peixe tem %x anos' % age)"
   ]
  },
  {
   "cell_type": "code",
   "execution_count": 229,
   "metadata": {},
   "outputs": [
    {
     "name": "stdout",
     "output_type": "stream",
     "text": [
      "nemo has 16 years\n"
     ]
    }
   ],
   "source": [
    "# print(f'')\n",
    "x = 11\n",
    "print(f'{name} has {age+x} years')"
   ]
  },
  {
   "cell_type": "markdown",
   "metadata": {},
   "source": [
    "#### ---------------------------------------------------------------------------------------------------------"
   ]
  },
  {
   "cell_type": "markdown",
   "metadata": {},
   "source": [
    "## RegEx"
   ]
  },
  {
   "cell_type": "code",
   "execution_count": 232,
   "metadata": {},
   "outputs": [
    {
     "name": "stdout",
     "output_type": "stream",
     "text": [
      "phone =  9+9831+6285\n",
      "phone = 9-9831-6285\n",
      "('9831', '6285')\n",
      "6285-9831\n"
     ]
    }
   ],
   "source": [
    "import re\n",
    "phone = re.compile(r'\\d-(\\d\\d\\d\\d)-(\\d\\d\\d\\d)')\n",
    "num = phone.search('my number is 9-9831-6285 and it is awesome')\n",
    "print('phone =  9+{}+{}'.format(num.group(1),num.group(2)))\n",
    "print('phone = {}'.format(num.group()))\n",
    "print(num.groups())\n",
    "first, second = num.groups()\n",
    "print(second+'-'+first)"
   ]
  },
  {
   "cell_type": "code",
   "execution_count": 233,
   "metadata": {},
   "outputs": [
    {
     "name": "stdout",
     "output_type": "stream",
     "text": [
      "Vini\n",
      "Vinicius\n",
      "Vinivinivinivinivinivinivini\n"
     ]
    }
   ],
   "source": [
    "name = re.compile(r'Vini(cius)?')\n",
    "r = name.search('Oi, eu sou Vini')\n",
    "print(r.group())\n",
    "r = name.search('Oi, eu sou Vinicius')\n",
    "print(r.group())\n",
    "\n",
    "name2 = re.compile(r'Vini(vini)*') # '*' = zero or more |vini)     '+' = one or more (vini)\n",
    "r = name2.search('Vinivinivinivinivinivinivini')\n",
    "print(r.group())"
   ]
  },
  {
   "cell_type": "markdown",
   "metadata": {},
   "source": [
    "# To be continued..."
   ]
  }
 ],
 "metadata": {
  "kernelspec": {
   "display_name": "Python 3",
   "language": "python",
   "name": "python3"
  },
  "language_info": {
   "codemirror_mode": {
    "name": "ipython",
    "version": 3
   },
   "file_extension": ".py",
   "mimetype": "text/x-python",
   "name": "python",
   "nbconvert_exporter": "python",
   "pygments_lexer": "ipython3",
   "version": "3.7.1"
  }
 },
 "nbformat": 4,
 "nbformat_minor": 2
}
